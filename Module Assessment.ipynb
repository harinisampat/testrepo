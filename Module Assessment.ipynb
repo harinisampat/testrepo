{
 "cells": [
  {
   "cell_type": "markdown",
   "metadata": {},
   "source": [
    "<center>\n",
    "    <img src=\"https://cf-courses-data.s3.us.cloud-object-storage.appdomain.cloud/IBMDeveloperSkillsNetwork-DS0105EN-SkillsNetwork/labs/Module2/images/SN_web_lightmode.png\" width=\"300\" alt=\"cognitiveclass.ai logo\">\n",
    "</center>\n"
   ]
  },
  {
   "cell_type": "markdown",
   "metadata": {},
   "source": [
    "#### Add your code below following the instructions given in the course\n"
   ]
  },
  {
   "cell_type": "markdown",
   "metadata": {},
   "source": [
    "# My Jupyter Notebook on IBM Watson Studio"
   ]
  },
  {
   "cell_type": "markdown",
   "metadata": {},
   "source": [
    " **Name: Harini Sampat** <br>\n",
    "    Currently a Student in 2nd Year MBA TECH IT in NMIMS MPSTME\n",
    "    <br>\n",
    "    Desired Occupation - IT engineer"
   ]
  },
  {
   "cell_type": "markdown",
   "metadata": {},
   "source": [
    "*I am interested in data science as studying about collection of data, its extraction, processing, filtering and modeling interests me. I want to learn about how these processes are carried out in real life with large amounts of data.*"
   ]
  },
  {
   "cell_type": "markdown",
   "metadata": {},
   "source": [
    "### The following code is used to multiply 2 two-digit integers"
   ]
  },
  {
   "cell_type": "code",
   "execution_count": 2,
   "metadata": {},
   "outputs": [
    {
     "name": "stdout",
     "output_type": "stream",
     "text": [
      "600\n"
     ]
    }
   ],
   "source": [
    "print(20*30)"
   ]
  },
  {
   "cell_type": "markdown",
   "metadata": {},
   "source": [
    "*1.This is a bulleted list of grocery items* <br>\n",
    "<ul>\n",
    "    <li> Sugar </li>\n",
    "    <li> Milk </li>\n",
    "    <li> Eggs </li>\n",
    "</ul>\n",
    "<br>\n",
    "\n",
    "*2.This is a horizontal rule with a height of 5px* <br>\n",
    "<hr style=\"height:5px\";>\n",
    "\n",
    "*3.This is a numbered list of stationery items* <br>\n",
    "<ol>\n",
    "    <li> Pen </li>\n",
    "    <li> Eraser </li>\n",
    "    <li> Ruler </li>\n",
    "</ol>"
   ]
  },
  {
   "cell_type": "code",
   "execution_count": null,
   "metadata": {},
   "outputs": [],
   "source": []
  }
 ],
 "metadata": {
  "kernelspec": {
   "display_name": "Python",
   "language": "python",
   "name": "conda-env-python-py"
  },
  "language_info": {
   "codemirror_mode": {
    "name": "ipython",
    "version": 3
   },
   "file_extension": ".py",
   "mimetype": "text/x-python",
   "name": "python",
   "nbconvert_exporter": "python",
   "pygments_lexer": "ipython3",
   "version": "3.7.12"
  }
 },
 "nbformat": 4,
 "nbformat_minor": 4
}
